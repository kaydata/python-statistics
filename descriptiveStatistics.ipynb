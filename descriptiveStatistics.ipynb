{
 "cells": [
  {
   "cell_type": "markdown",
   "metadata": {},
   "source": [
    "# Descriptive Statistics Notes"
   ]
  },
  {
   "cell_type": "markdown",
   "metadata": {},
   "source": [
    "Descriptive statistics refers to a branch of statistics that involves the analysis, summary, and presentation of data in a meaningful and concise manner. Its main purpose is to describe and summarize the main features, patterns, and characteristics of a dataset. Descriptive statistics focuses on providing quantitative measures and visual representations that help in understanding the data, identifying trends, and making data-driven decisions.\n",
    "\n"
   ]
  },
  {
   "cell_type": "markdown",
   "metadata": {},
   "source": [
    "## Key aspects of descriptive statistics"
   ]
  },
  {
   "cell_type": "markdown",
   "metadata": {},
   "source": [
    "- Central Tendency Measures: Descriptive statistics often involves calculating measures that represent the center or average of a dataset, such as the mean, median, and mode. These measures provide a sense of the typical or central value around which the data points tend to cluster.\n",
    "\n",
    "- Measures of Dispersion: Descriptive statistics also includes measures that quantify the spread, variability, or dispersion of the data. Common measures of dispersion include the range, variance, and standard deviation. These measures provide insights into how the data points are distributed and how much they deviate from the central tendency.\n",
    "\n",
    "- Data Visualization: Descriptive statistics involves presenting data visually using graphs, charts, and plots. Visual representations like histograms, box plots, scatter plots, and bar charts help in understanding the distribution, patterns, and relationships within the data.\n",
    "\n",
    "- Summarizing Categorical Data: Descriptive statistics is not limited to numerical data. It also encompasses techniques for summarizing and describing categorical data using frequency tables, proportions, and percentages. These techniques help in understanding the composition and characteristics of categorical variables.\n",
    "\n",
    "- Interpreting and Communicating Results: Descriptive statistics is focused on providing clear and concise summaries of data that can be easily interpreted and communicated to others. It aims to convey the main features and insights of the data in a way that is accessible to a broad audience."
   ]
  },
  {
   "cell_type": "markdown",
   "metadata": {},
   "source": [
    "## Descriptive Statistics --Applied Using Python"
   ]
  },
  {
   "cell_type": "markdown",
   "metadata": {},
   "source": [
    "### Central Tendency Measures"
   ]
  },
  {
   "cell_type": "code",
   "execution_count": 2,
   "metadata": {},
   "outputs": [],
   "source": [
    "import numpy as np"
   ]
  },
  {
   "cell_type": "markdown",
   "metadata": {},
   "source": [
    "#### Mean"
   ]
  },
  {
   "cell_type": "code",
   "execution_count": 6,
   "metadata": {},
   "outputs": [
    {
     "name": "stdout",
     "output_type": "stream",
     "text": [
      "The mean is: 4.0\n"
     ]
    }
   ],
   "source": [
    "data = [1, 2, 3, 4, 5,6,7]\n",
    "mean = np.mean(data)\n",
    "print('The mean is:', mean)"
   ]
  },
  {
   "cell_type": "markdown",
   "metadata": {},
   "source": [
    "#### Median"
   ]
  },
  {
   "cell_type": "code",
   "execution_count": 7,
   "metadata": {},
   "outputs": [
    {
     "name": "stdout",
     "output_type": "stream",
     "text": [
      "The median is: 4.0\n"
     ]
    }
   ],
   "source": [
    "median = np.median(data)\n",
    "print('The median is:', median)"
   ]
  },
  {
   "cell_type": "markdown",
   "metadata": {},
   "source": [
    "#### Mode"
   ]
  },
  {
   "cell_type": "code",
   "execution_count": 9,
   "metadata": {},
   "outputs": [
    {
     "name": "stdout",
     "output_type": "stream",
     "text": [
      "Mode: 2\n"
     ]
    }
   ],
   "source": [
    "from scipy import stats\n",
    "\n",
    "data = [1, 2, 2, 3, 4]\n",
    "mode = stats.mode(data, keepdims=True)\n",
    "print(\"Mode:\", mode.mode[0])"
   ]
  }
 ],
 "metadata": {
  "kernelspec": {
   "display_name": "base",
   "language": "python",
   "name": "python3"
  },
  "language_info": {
   "codemirror_mode": {
    "name": "ipython",
    "version": 3
   },
   "file_extension": ".py",
   "mimetype": "text/x-python",
   "name": "python",
   "nbconvert_exporter": "python",
   "pygments_lexer": "ipython3",
   "version": "3.10.9"
  },
  "orig_nbformat": 4
 },
 "nbformat": 4,
 "nbformat_minor": 2
}
