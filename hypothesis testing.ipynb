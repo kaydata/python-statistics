{
 "cells": [
  {
   "cell_type": "markdown",
   "metadata": {},
   "source": [
    "# Hypothesis Testing using Python"
   ]
  },
  {
   "cell_type": "markdown",
   "metadata": {},
   "source": [
    "- Hypothesis testing is a statistical method for making inferences or predictions about a population based on a sample of data.\n",
    "\n",
    "### Basics of Hypothesis Testing\n",
    "- Null Hypothesis( H~0~ ) :The null hypothesis assumes no effect or difference in the population. It serves as the default assumption that we try to reject.\n",
    "- Alternate Hypothesis (Ha or H1): This is what you want to prove --That there is an effect or a difference\n",
    "- Significance Level (α): The probability of rejecting the null hypothesis when it is actually true. Common choises are 0.01, 0.05 and 0.1\n",
    "- Test Statistic: This is a measure calculated from the sample data that is used to assess the evidence against the null hypothesis.\n",
    "- P-value : The probability of observing a test statistic as extreme as the one calculated, assuming that the null hypothesis is true\n",
    "\n",
    "### Steps in Hypothesis Testing\n",
    "1. State the Hypotheses: Null and hypothesis\n",
    "2. Choose significance level: Typically 0.05\n",
    "3. Collect Data --sample data\n",
    "4. Calculate the Test Statistic and P-value\n",
    "5. Make a decision --Reject or fail to reject the null hypothesis based on the P value. "
   ]
  },
  {
   "cell_type": "markdown",
   "metadata": {},
   "source": [
    "## One-sample t-test"
   ]
  },
  {
   "cell_type": "markdown",
   "metadata": {},
   "source": [
    "- We compare the mean of a sample against a known value, or theoretical expectation.\n",
    "- Let's say, we have exam scores for a class and we want to test if the average is significantly different from 50. "
   ]
  },
  {
   "cell_type": "code",
   "execution_count": 1,
   "metadata": {},
   "outputs": [
    {
     "name": "stdout",
     "output_type": "stream",
     "text": [
      "t-statistic: 2.1180509633837428\n",
      "p-value: 0.0392675594917796\n",
      "Reject the null hypothesis: The mean is significantly different from 50.\n"
     ]
    }
   ],
   "source": [
    "import numpy as np\n",
    "from scipy import stats\n",
    "\n",
    "#Generate some example data\n",
    "\n",
    "np.random.seed(0)\n",
    "scores = np.random.normal(52,10,50)  # mean=52, std_dev=10, sample_size=50\n",
    "\n",
    "# Null hypothesis: the mean is 50\n",
    "# Alternative hypothesis: the mean is not 50\n",
    "\n",
    "alpha = 0.05 #significance level\n",
    "\n",
    "t_stat, p_value = stats.ttest_1samp(scores, 50)  # one-sample t-test\n",
    "\n",
    "print(\"t-statistic:\", t_stat)\n",
    "print(\"p-value:\", p_value)\n",
    "\n",
    "# Making a decision\n",
    "if p_value < alpha:\n",
    "    print(\"Reject the null hypothesis: The mean is significantly different from 50.\")\n",
    "else:\n",
    "    print(\"Fail to reject the null hypothesis: The mean is not significantly different from 50.\")"
   ]
  },
  {
   "cell_type": "markdown",
   "metadata": {},
   "source": [
    "## Two-sample t-test\n"
   ]
  },
  {
   "cell_type": "markdown",
   "metadata": {},
   "source": [
    "- The two-sample t-test is used to compare the means of two independent samples to see if they are significantly different.\n"
   ]
  },
  {
   "cell_type": "code",
   "execution_count": 5,
   "metadata": {},
   "outputs": [
    {
     "name": "stdout",
     "output_type": "stream",
     "text": [
      "t-statistic: 3.0615775843215727\n",
      "p-value: 0.0028416162064019927\n",
      "Reject the null hypothesis: The means are significantly different.\n"
     ]
    }
   ],
   "source": [
    "# Implementation\n",
    "\n",
    "# Generating some example data\n",
    "group1_scores = np.random.normal(52, 10, 50)  # mean=52, std_dev=10, sample_size=50\n",
    "group2_scores = np.random.normal(48, 10, 50)  # mean=48, std_dev=10, sample_size=50\n",
    "\n",
    "# Null hypothesis: the means are equal\n",
    "# Alternative hypothesis: the means are not equal\n",
    "alpha = 0.05  # significance level\n",
    "t_stat, p_value = stats.ttest_ind(group1_scores, group2_scores)\n",
    "\n",
    "print(\"t-statistic:\", t_stat)\n",
    "print(\"p-value:\", p_value)\n",
    "\n",
    "# Making a decision\n",
    "if p_value < alpha:\n",
    "    print(\"Reject the null hypothesis: The means are significantly different.\")\n",
    "else:\n",
    "    print(\"Fail to reject the null hypothesis: The means are not significantly different.\")"
   ]
  },
  {
   "cell_type": "markdown",
   "metadata": {},
   "source": [
    "## Chi-Square Test for Independence"
   ]
  },
  {
   "cell_type": "markdown",
   "metadata": {},
   "source": [
    "- The Chi-Square test is used to test the independence between two categorical variables.\n",
    "- It is used to determine if there is a significant association between two categorical variables. For example, you may want to determine if there's a relationship between gender and preference for a specific product, political party affiliation, etc."
   ]
  },
  {
   "cell_type": "markdown",
   "metadata": {},
   "source": [
    "### Example Scenario\n",
    "Let's consider a hypothetical scenario where a college offers two majors: Science and Arts. We have surveyed 100 students to find out their gender and major. We want to know if the choice of major is independent of gender.\n",
    "\n",
    "Here is the observed data:\n",
    "\n",
    "Science major: 40 females, 30 males\n",
    "Arts major: 10 females, 20 males\n",
    "1. The null hypothesis states that there is no association between the choice of major and gender (they are independent).\n",
    "\n",
    "2. The alternative hypothesis states that there is an association (they are not independent).\n",
    "\n",
    "\n",
    "### Contingency Table\n",
    "| Major / Gender  | Female | Male  | Row Total |\n",
    "|-----------------|--------|-------|-----------|\n",
    "| Science         |   40   |  30   |     70    |\n",
    "| Arts            |   10   |  20   |     30    |\n",
    "| **Column Total**|   50   |  50   |    100    |\n"
   ]
  },
  {
   "cell_type": "code",
   "execution_count": 7,
   "metadata": {},
   "outputs": [
    {
     "name": "stdout",
     "output_type": "stream",
     "text": [
      "Chi2 Stat: 3.857142857142857\n",
      "Degrees of Freedom: 1\n",
      "P-Value: 0.04953461343562649\n",
      "Expected Frequencies Table:\n",
      "[[35. 35.]\n",
      " [15. 15.]]\n",
      "Reject the null hypothesis: There is a significant association between gender and choice of major.\n"
     ]
    }
   ],
   "source": [
    "# Implementation\n",
    "# Define the observed frequencies\n",
    "observed = np.array([\n",
    "    [40, 30],  # Science\n",
    "    [10, 20]   # Arts\n",
    "])\n",
    "\n",
    "#Run the Chi-Square test using SciPy's chi2_contingency function:\n",
    "\n",
    "chi2_stat, p_value, dof, expected = stats.chi2_contingency(observed)\n",
    "\n",
    "print(\"Chi2 Stat:\", chi2_stat)\n",
    "print(\"Degrees of Freedom:\", dof)\n",
    "print(\"P-Value:\", p_value)\n",
    "print(\"Expected Frequencies Table:\")\n",
    "print(expected)\n",
    "\n",
    "# Decision Making\n",
    "alpha = 0.05\n",
    "if p_value < alpha:\n",
    "    print(\"Reject the null hypothesis: There is a significant association between gender and choice of major.\")\n",
    "else:\n",
    "    print(\"Fail to reject the null hypothesis: There is no significant association between gender and choice of major.\")\n"
   ]
  },
  {
   "cell_type": "markdown",
   "metadata": {},
   "source": [
    "- Given that the p-value is less than the significance level\n",
    "α=0.05, we reject the null hypothesis. Therefore, there is enough evidence to conclude that there is a significant association between the choice of major and gender in this sample of students.\n",
    "\n",
    "- This means that in this particular example, gender appears to influence the choice of major (Science or Arts) among the surveyed students. However, remember that \"correlation does not imply causation.\" While we found an association, this does not mean that one variable causes the other."
   ]
  }
 ],
 "metadata": {
  "kernelspec": {
   "display_name": "base",
   "language": "python",
   "name": "python3"
  },
  "language_info": {
   "codemirror_mode": {
    "name": "ipython",
    "version": 3
   },
   "file_extension": ".py",
   "mimetype": "text/x-python",
   "name": "python",
   "nbconvert_exporter": "python",
   "pygments_lexer": "ipython3",
   "version": "3.10.9"
  },
  "orig_nbformat": 4
 },
 "nbformat": 4,
 "nbformat_minor": 2
}
